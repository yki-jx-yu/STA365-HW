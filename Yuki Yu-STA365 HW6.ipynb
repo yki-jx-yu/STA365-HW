{
 "cells": [
  {
   "cell_type": "markdown",
   "id": "b76d4e50",
   "metadata": {},
   "source": [
    "# Part I"
   ]
  },
  {
   "cell_type": "code",
   "execution_count": 1,
   "id": "dc4fe859",
   "metadata": {},
   "outputs": [
    {
     "data": {
      "text/html": [
       "<div>\n",
       "<style scoped>\n",
       "    .dataframe tbody tr th:only-of-type {\n",
       "        vertical-align: middle;\n",
       "    }\n",
       "\n",
       "    .dataframe tbody tr th {\n",
       "        vertical-align: top;\n",
       "    }\n",
       "\n",
       "    .dataframe thead th {\n",
       "        text-align: right;\n",
       "    }\n",
       "</style>\n",
       "<table border=\"1\" class=\"dataframe\">\n",
       "  <thead>\n",
       "    <tr style=\"text-align: right;\">\n",
       "      <th></th>\n",
       "      <th>Age</th>\n",
       "      <th>Sex</th>\n",
       "      <th>ChestPainType</th>\n",
       "      <th>RestingBP</th>\n",
       "      <th>Cholesterol</th>\n",
       "      <th>FastingBS</th>\n",
       "      <th>RestingECG</th>\n",
       "      <th>MaxHR</th>\n",
       "      <th>ExerciseAngina</th>\n",
       "      <th>Oldpeak</th>\n",
       "      <th>ST_Slope</th>\n",
       "      <th>HeartDisease</th>\n",
       "    </tr>\n",
       "  </thead>\n",
       "  <tbody>\n",
       "    <tr>\n",
       "      <th>0</th>\n",
       "      <td>40</td>\n",
       "      <td>M</td>\n",
       "      <td>ATA</td>\n",
       "      <td>140</td>\n",
       "      <td>289</td>\n",
       "      <td>0</td>\n",
       "      <td>Normal</td>\n",
       "      <td>172</td>\n",
       "      <td>N</td>\n",
       "      <td>0.0</td>\n",
       "      <td>Up</td>\n",
       "      <td>0</td>\n",
       "    </tr>\n",
       "    <tr>\n",
       "      <th>1</th>\n",
       "      <td>49</td>\n",
       "      <td>F</td>\n",
       "      <td>NAP</td>\n",
       "      <td>160</td>\n",
       "      <td>180</td>\n",
       "      <td>0</td>\n",
       "      <td>Normal</td>\n",
       "      <td>156</td>\n",
       "      <td>N</td>\n",
       "      <td>1.0</td>\n",
       "      <td>Flat</td>\n",
       "      <td>1</td>\n",
       "    </tr>\n",
       "    <tr>\n",
       "      <th>2</th>\n",
       "      <td>37</td>\n",
       "      <td>M</td>\n",
       "      <td>ATA</td>\n",
       "      <td>130</td>\n",
       "      <td>283</td>\n",
       "      <td>0</td>\n",
       "      <td>ST</td>\n",
       "      <td>98</td>\n",
       "      <td>N</td>\n",
       "      <td>0.0</td>\n",
       "      <td>Up</td>\n",
       "      <td>0</td>\n",
       "    </tr>\n",
       "    <tr>\n",
       "      <th>3</th>\n",
       "      <td>48</td>\n",
       "      <td>F</td>\n",
       "      <td>ASY</td>\n",
       "      <td>138</td>\n",
       "      <td>214</td>\n",
       "      <td>0</td>\n",
       "      <td>Normal</td>\n",
       "      <td>108</td>\n",
       "      <td>Y</td>\n",
       "      <td>1.5</td>\n",
       "      <td>Flat</td>\n",
       "      <td>1</td>\n",
       "    </tr>\n",
       "    <tr>\n",
       "      <th>4</th>\n",
       "      <td>54</td>\n",
       "      <td>M</td>\n",
       "      <td>NAP</td>\n",
       "      <td>150</td>\n",
       "      <td>195</td>\n",
       "      <td>0</td>\n",
       "      <td>Normal</td>\n",
       "      <td>122</td>\n",
       "      <td>N</td>\n",
       "      <td>0.0</td>\n",
       "      <td>Up</td>\n",
       "      <td>0</td>\n",
       "    </tr>\n",
       "  </tbody>\n",
       "</table>\n",
       "</div>"
      ],
      "text/plain": [
       "   Age Sex ChestPainType  RestingBP  Cholesterol  FastingBS RestingECG  MaxHR  \\\n",
       "0   40   M           ATA        140          289          0     Normal    172   \n",
       "1   49   F           NAP        160          180          0     Normal    156   \n",
       "2   37   M           ATA        130          283          0         ST     98   \n",
       "3   48   F           ASY        138          214          0     Normal    108   \n",
       "4   54   M           NAP        150          195          0     Normal    122   \n",
       "\n",
       "  ExerciseAngina  Oldpeak ST_Slope  HeartDisease  \n",
       "0              N      0.0       Up             0  \n",
       "1              N      1.0     Flat             1  \n",
       "2              N      0.0       Up             0  \n",
       "3              Y      1.5     Flat             1  \n",
       "4              N      0.0       Up             0  "
      ]
     },
     "execution_count": 1,
     "metadata": {},
     "output_type": "execute_result"
    }
   ],
   "source": [
    "import pandas as pd\n",
    "df = pd.read_csv(\"heart.csv\")\n",
    "df.head()"
   ]
  },
  {
   "cell_type": "code",
   "execution_count": 3,
   "id": "9e50223b",
   "metadata": {},
   "outputs": [],
   "source": [
    "n, p = df.shape[0], df.shape[1] - 1"
   ]
  },
  {
   "cell_type": "code",
   "execution_count": 4,
   "id": "f478aa21",
   "metadata": {},
   "outputs": [
    {
     "name": "stderr",
     "output_type": "stream",
     "text": [
      "Auto-assigning NUTS sampler...\n",
      "Initializing NUTS using jitter+adapt_diag...\n",
      "Multiprocess sampling (4 chains in 4 jobs)\n",
      "NUTS: [betas]\n"
     ]
    },
    {
     "data": {
      "text/html": [
       "\n",
       "<style>\n",
       "    /* Turns off some styling */\n",
       "    progress {\n",
       "        /* gets rid of default border in Firefox and Opera. */\n",
       "        border: none;\n",
       "        /* Needs to be in here for Safari polyfill so background images work as expected. */\n",
       "        background-size: auto;\n",
       "    }\n",
       "    progress:not([value]), progress:not([value])::-webkit-progress-bar {\n",
       "        background: repeating-linear-gradient(45deg, #7e7e7e, #7e7e7e 10px, #5c5c5c 10px, #5c5c5c 20px);\n",
       "    }\n",
       "    .progress-bar-interrupted, .progress-bar-interrupted::-webkit-progress-bar {\n",
       "        background: #F44336;\n",
       "    }\n",
       "</style>\n"
      ],
      "text/plain": [
       "<IPython.core.display.HTML object>"
      ]
     },
     "metadata": {},
     "output_type": "display_data"
    },
    {
     "data": {
      "text/html": [
       "\n",
       "    <div>\n",
       "      <progress value='8000' class='' max='8000' style='width:300px; height:20px; vertical-align: middle;'></progress>\n",
       "      100.00% [8000/8000 00:42&lt;00:00 Sampling 4 chains, 0 divergences]\n",
       "    </div>\n",
       "    "
      ],
      "text/plain": [
       "<IPython.core.display.HTML object>"
      ]
     },
     "metadata": {},
     "output_type": "display_data"
    },
    {
     "name": "stderr",
     "output_type": "stream",
     "text": [
      "Sampling 4 chains for 1_000 tune and 1_000 draw iterations (4_000 + 4_000 draws total) took 42 seconds.\n"
     ]
    }
   ],
   "source": [
    "import pymc as pm; import numpy as np\n",
    "X,y=np.zeros((n,p)),np.ones((n,1))\n",
    "\n",
    "with pm.Model() as logistic_model:\n",
    "    betas = pm.MvNormal('betas', mu=np.zeros((p,1)), cov=np.eye(p), shape=(p,1))\n",
    "    linear_comb = pm.math.dot(X, betas)\n",
    "    p = pm.math.sigmoid(linear_comb)\n",
    "    y_obs = pm.Bernoulli('y_obs', p=p, observed=y)\n",
    "    \n",
    "with logistic_model:\n",
    "    idata = pm.sample()"
   ]
  },
  {
   "cell_type": "markdown",
   "id": "9e83d1ad",
   "metadata": {},
   "source": [
    "# Part II\n",
    "\n",
    "### Normal Prior:\n",
    "\n",
    "A normal prior for the coefficients $\\beta$ assumes: $\\beta_j \\sim \\mathcal{N}(0, \\sigma^2)$\n",
    "\n",
    "Given the likelihood function: $\\mathcal{L}(\\beta|X, y) \\propto \\exp\\left(-\\frac{1}{2\\sigma^2} ||y - X\\beta||_2^2\\right)$\n",
    "\n",
    "The log posterior distribution for $\\beta$ with a normal prior becomes:\n",
    "\n",
    "\\begin{align*}\n",
    "\\text{log posterior} &\\propto \\text{log likelihood} + \\text{log prior} \\\\\n",
    "&\\propto -\\frac{1}{2\\sigma^2} ||y - X\\beta||_2^2 - \\frac{1}{2\\sigma^2} \\sum_{j=1}^n \\beta_j^2 \\\\\n",
    "&= -\\frac{1}{2} ||y - X\\beta||_2^2 - \\frac{1}{2} \\sum_{j=1}^n \\beta_j^2\n",
    "\\end{align*}\n",
    "\n",
    "This is similar to the ridge regression expression, where we have a penalty term proportional to the $L_2$ norm of $\\beta$.\n",
    "\n",
    "### Laplace Prior:\n",
    "\n",
    "A Laplace prior for the coefficients $\\beta$ assumes: $p(\\beta_j) \\propto \\exp\\left(-\\frac{|\\beta_j|}{b}\\right)$\n",
    "\n",
    "Given the likelihood function: $\\mathcal{L}(\\beta|X, y) \\propto \\exp\\left(-\\frac{1}{2\\sigma^2} ||y - X\\beta||_2^2\\right)$\n",
    "\n",
    "The log posterior distribution for $\\beta$ with a Laplace prior becomes:\n",
    "\n",
    "\\begin{align*}\n",
    "\\text{log posterior} &\\propto \\text{log likelihood} + \\text{log prior} \\\\\n",
    "&\\propto -\\frac{1}{2\\sigma^2} ||y - X\\beta||_2^2 - \\frac{1}{b} \\sum_{j=1}^n |\\beta_j|\n",
    "\\end{align*}\n",
    "\n",
    "This is similar to the lasso regression expression, where we have a penalty term proportional to the $L_1$ norm of $\\beta$.\n",
    "\n",
    "Bayesians do not optimize posterior distributions, instead they sample from them. But, the posterior distributions are nonetheless 'regularizations' of the likelihood through the prior."
   ]
  },
  {
   "cell_type": "markdown",
   "id": "cf4f4acc",
   "metadata": {},
   "source": [
    "# Part III"
   ]
  },
  {
   "cell_type": "code",
   "execution_count": 2,
   "id": "7b68bea0",
   "metadata": {},
   "outputs": [
    {
     "name": "stderr",
     "output_type": "stream",
     "text": [
      "Auto-assigning NUTS sampler...\n",
      "Initializing NUTS using jitter+adapt_diag...\n",
      "Multiprocess sampling (4 chains in 4 jobs)\n",
      "NUTS: [beta, nu, lambda]\n"
     ]
    },
    {
     "data": {
      "text/html": [
       "\n",
       "<style>\n",
       "    /* Turns off some styling */\n",
       "    progress {\n",
       "        /* gets rid of default border in Firefox and Opera. */\n",
       "        border: none;\n",
       "        /* Needs to be in here for Safari polyfill so background images work as expected. */\n",
       "        background-size: auto;\n",
       "    }\n",
       "    progress:not([value]), progress:not([value])::-webkit-progress-bar {\n",
       "        background: repeating-linear-gradient(45deg, #7e7e7e, #7e7e7e 10px, #5c5c5c 10px, #5c5c5c 20px);\n",
       "    }\n",
       "    .progress-bar-interrupted, .progress-bar-interrupted::-webkit-progress-bar {\n",
       "        background: #F44336;\n",
       "    }\n",
       "</style>\n"
      ],
      "text/plain": [
       "<IPython.core.display.HTML object>"
      ]
     },
     "metadata": {},
     "output_type": "display_data"
    },
    {
     "data": {
      "text/html": [
       "\n",
       "    <div>\n",
       "      <progress value='8000' class='' max='8000' style='width:300px; height:20px; vertical-align: middle;'></progress>\n",
       "      100.00% [8000/8000 00:05&lt;00:00 Sampling 4 chains, 0 divergences]\n",
       "    </div>\n",
       "    "
      ],
      "text/plain": [
       "<IPython.core.display.HTML object>"
      ]
     },
     "metadata": {},
     "output_type": "display_data"
    },
    {
     "name": "stderr",
     "output_type": "stream",
     "text": [
      "Sampling 4 chains for 1_000 tune and 1_000 draw iterations (4_000 + 4_000 draws total) took 5 seconds.\n",
      "The rhat statistic is larger than 1.01 for some parameters. This indicates problems during sampling. See https://arxiv.org/abs/1903.08008 for details\n",
      "The effective sample size per chain is smaller than 100 for some parameters.  A higher number is needed for reliable rhat and ess computation. See https://arxiv.org/abs/1903.08008 for details\n"
     ]
    },
    {
     "name": "stdout",
     "output_type": "stream",
     "text": [
      "Outliers: [ 9 20 49 57 63]\n"
     ]
    }
   ],
   "source": [
    "import pymc as pm; import numpy as np; import arviz as az\n",
    "\n",
    "np.random.seed(8)\n",
    "n_samples = 100\n",
    "X = np.random.normal(size=(n_samples, 1))\n",
    "true_beta = 2.5\n",
    "mu = X * true_beta\n",
    "w = 1\n",
    "nu = 4\n",
    "\n",
    "y = np.random.normal(mu.flatten(), scale=w)\n",
    "\n",
    "with pm.Model() as robust_model_with_lambda:\n",
    "    # Priors\n",
    "    beta = pm.Normal('beta', mu=0, sigma=10)\n",
    "    nu = pm.Exponential('nu', 1/29) + 1\n",
    "    lambda_i = pm.Gamma('lambda', alpha=nu/2, beta=nu/2, shape=n_samples)\n",
    "    sigma_i = pm.Deterministic('sigma_i', 1 / (lambda_i))\n",
    "\n",
    "    # Likelihood\n",
    "    likelihood = pm.Normal('y', mu=X[:,0]*beta, sigma=sigma_i, observed=y)\n",
    "\n",
    "    # Sampling\n",
    "    trace = pm.sample(1000, target_accept=0.9, return_inferencedata=True)\n",
    "\n",
    "\n",
    "lambda_posterior = trace.posterior['lambda'].values\n",
    "lambda_mean = np.mean(lambda_posterior, axis=(0, 1))\n",
    "outlier_threshold = np.quantile(lambda_mean, 0.05)  # Lower 5% as potential outliers\n",
    "outliers = np.where(lambda_mean < outlier_threshold)[0]\n",
    "print(f\"Outliers: {outliers}\")"
   ]
  }
 ],
 "metadata": {
  "kernelspec": {
   "display_name": "Python 3 (ipykernel)",
   "language": "python",
   "name": "python3"
  },
  "language_info": {
   "codemirror_mode": {
    "name": "ipython",
    "version": 3
   },
   "file_extension": ".py",
   "mimetype": "text/x-python",
   "name": "python",
   "nbconvert_exporter": "python",
   "pygments_lexer": "ipython3",
   "version": "3.11.6"
  }
 },
 "nbformat": 4,
 "nbformat_minor": 5
}
